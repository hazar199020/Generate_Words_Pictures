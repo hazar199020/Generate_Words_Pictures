{
  "nbformat": 4,
  "nbformat_minor": 0,
  "metadata": {
    "accelerator": "GPU",
    "colab": {
      "provenance": []
    },
    "kernelspec": {
      "display_name": "Python 3",
      "name": "python3"
    }
  },
  "cells": [
    {
      "cell_type": "code",
      "metadata": {
        "colab": {
          "base_uri": "https://localhost:8080/"
        },
        "id": "wNM5-BzcEYCl",
        "outputId": "dec0cadf-5bbc-40a0-df6d-8528dfe8e7e6"
      },
      "source": [
        "from google.colab import drive\n",
        "drive.mount('/content/drive')"
      ],
      "execution_count": null,
      "outputs": [
        {
          "output_type": "stream",
          "name": "stdout",
          "text": [
            "Mounted at /content/drive\n"
          ]
        }
      ]
    },
    {
      "cell_type": "markdown",
      "metadata": {
        "id": "nVJ6gf6NhV0-"
      },
      "source": []
    },
    {
      "cell_type": "code",
      "metadata": {
        "id": "I6gyvOFYNRjq"
      },
      "source": [
        "with open('/content/drive/MyDrive/List_Words.txt') as f:\n",
        "    i = 1\n",
        "    while i<3557:\n",
        "     line = f.readline()\n",
        "     i=i+1\n",
        "     #print(line)"
      ],
      "execution_count": null,
      "outputs": []
    },
    {
      "cell_type": "code",
      "metadata": {
        "colab": {
          "base_uri": "https://localhost:8080/",
          "height": 476
        },
        "id": "0Sl9Dhd9EQxA",
        "outputId": "d8bb7ca3-ceb5-4de4-86c0-6981aaac09ae"
      },
      "source": [
        "!pip install --upgrade arabic-reshaper python-bidi pillow\n",
        "\n",
        "import arabic_reshaper\n",
        "\n",
        "# Importing Image and ImageFont, ImageDraw module from PIL package\n",
        "from PIL import Image, ImageFont, ImageDraw\n",
        "\n",
        "# creating a image object\n",
        "image = Image.open(r'/content/output.png')\n",
        "\n",
        "draw = ImageDraw.Draw(image)\n",
        "\n",
        "# specified font size\n",
        "\n",
        "#مبالغ\n",
        "#font = ImageFont.truetype('/content/drive/MyDrive/خاص/CNN-LSTM-CTC-text-recognition-master/generate_data/font/SPBLDRUL.TTF', 20)\n",
        "\n",
        "#مبالغ\n",
        "#font = ImageFont.truetype('/content/drive/MyDrive/خاص/CNN-LSTM-CTC-text-recognition-master/generate_data/font/SPBLDJUT.TTF', 20)\n",
        "\n",
        "#تمام نموذجي#\n",
        "#ارتفاع خط الـ 13 هو 30\n",
        "font = ImageFont.truetype('/content/drive/MyDrive/Font',19)\n",
        "\n",
        "#تمام\n",
        "#font = ImageFont.truetype('/content/drive/MyDrive/خاص/CNN-LSTM-CTC-text-recognition-master/generate_data/font/PTBLDHAD.TTF' ,20)\n",
        "\n",
        "#مبالغ\n",
        "#font = ImageFont.truetype('/content/drive/MyDrive/خاص/CNN-LSTM-CTC-text-recognition-master/generate_data/font/PTBLDDSK.TTF' ,20)\n",
        "\n",
        "#مبالغ\n",
        "#font = ImageFont.truetype('/content/drive/MyDrive/خاص/CNN-LSTM-CTC-text-recognition-master/generate_data/font/PTBLDBRK.TTF' ,20)\n",
        "\n",
        "#مبالغ\n",
        "#font = ImageFont.truetype('/content/drive/MyDrive/خاص/CNN-LSTM-CTC-text-recognition-master/generate_data/font/PTBLDARC.TTF' ,20)\n",
        "\n",
        "#نموذج تمام\n",
        "#font = ImageFont.truetype('/content/drive/MyDrive/خاص/CNN-LSTM-CTC-text-recognition-master/generate_data/font/MSUIGHUR.TTF' ,20)\n",
        "\n",
        "#تمام نموذج\n",
        "#font = ImageFont.truetype('/content/drive/MyDrive/خاص/CNN-LSTM-CTC-text-recognition-master/generate_data/font/MSUIGHUB.TTF' ,20)\n",
        "\n",
        "#مبالغ\n",
        "#font = ImageFont.truetype('/content/drive/MyDrive/خاص/CNN-LSTM-CTC-text-recognition-master/generate_data/font/LEDITFNT.TTF' ,20)\n",
        "\n",
        "#مبالغ\n",
        "#font = ImageFont.truetype('/content/drive/MyDrive/خاص/CNN-LSTM-CTC-text-recognition-master/generate_data/font/FRSSPBL.TTF' ,20)\n",
        "\n",
        "#تمام\n",
        "#font = ImageFont.truetype('/content/drive/MyDrive/خاص/CNN-LSTM-CTC-text-recognition-master/generate_data/font/DTNASKH4.TTF' ,20)\n",
        "\n",
        "#تمام\n",
        "#font = ImageFont.truetype('/content/drive/MyDrive/خاص/CNN-LSTM-CTC-text-recognition-master/generate_data/font/DTNASKH1.TTF' ,20)\n",
        "\n",
        "#تمام\n",
        "#font = ImageFont.truetype('/content/drive/MyDrive/خاص/CNN-LSTM-CTC-text-recognition-master/generate_data/font/DTNASKH0.TTF' ,20)\n",
        "\n",
        "#مبالغ\n",
        "#font = ImageFont.truetype('/content/drive/MyDrive/خاص/CNN-LSTM-CTC-text-recognition-master/generate_data/font/DTHULUTH.TTF' ,20)\n",
        "\n",
        "#خطأ\n",
        "#font = ImageFont.truetype('/content/drive/MyDrive/خاص/CNN-LSTM-CTC-text-recognition-master/generate_data/font/CalibriLI.ttf' ,20)\n",
        "\n",
        "#خطأ\n",
        "#font = ImageFont.truetype('/content/drive/MyDrive/خاص/CNN-LSTM-CTC-text-recognition-master/generate_data/font/CalibriL.ttf' ,20)\n",
        "\n",
        "#مبالغ\n",
        "#font = ImageFont.truetype('/content/drive/MyDrive/خاص/CNN-LSTM-CTC-text-recognition-master/generate_data/font/ARABTYPE.ttf' ,20)\n",
        "\n",
        "import arabic_reshaper\n",
        "\n",
        "my_dict={'ا' : 'a' ,'ب':'b','ت':'c','ث':'d','ج':'e','ح': 'f' ,'د': 'g','ذ': 'h','ر' : 'i' ,\n",
        "         'ز': 'j' ,'س': 'k','ش': 'l','ص' : 'm','ض': 'n','ط': 'o','ظ': 'p','ع': 'q',\n",
        "         'غ': 'r' ,'ف': 's','ق' : 't','ك': 'u','ل': 'v','م': 'w','ن': 'x','ه': 'y' ,\n",
        "         'و': 'z' ,'ي': 'A','ء': 'B' ,'إ': 'C','أ': 'D','إ': 'E','آ': 'J','ؤ': 'K' ,\n",
        "         'ئ': 'L' ,'لا': 'M','ة':'N','ى':'O','خ':'P'}\n",
        "\n",
        "from bidi.algorithm import get_display\n",
        "\n",
        "with open('/content/drive/MyDrive/List_Words.txt') as f2:\n",
        "     i = 1\n",
        "     line = f2.readline()\n",
        "     while i<3557:\n",
        "        i=i+1\n",
        "        line = f2.readline()\n",
        "        #line = f2.readline()\n",
        "        image = Image.open(r'/content/output.png')\n",
        "        draw = ImageDraw.Draw(image)\n",
        "        line=line.split('\\n')[0]\n",
        "        line=line.strip('  ')\n",
        "        print(line)\n",
        "        print(i)\n",
        "        a=\"\"\n",
        "        for c in line:\n",
        "          a=a+my_dict.get(c)\n",
        "        draw.text((57, 4), line, fill =\"black\", font = font)\n",
        "        image.show()\n",
        "        if len(a)<15:\n",
        "         y=15-len(a)\n",
        "         o=0\n",
        "         while o<y:\n",
        "          o=o+1\n",
        "          a=a+\"_\"\n",
        "        if y!=15:\n",
        "         #print('Arabic_Images_English_Labels_Simplified_Arabic_13_2/'+a+'.png')\n",
        "         print(a)\n",
        "         image.save('/content/drive/MyDrive/Arabic_Images_English_Labels_Simplified_Arabic_19/'+a+'.png')\n",
        "         draw.rectangle((0, 0,50, 50), fill=(0, 0, 0, 0))"
      ],
      "execution_count": null,
      "outputs": [
        {
          "output_type": "stream",
          "name": "stdout",
          "text": [
            "Requirement already satisfied: arabic-reshaper in /usr/local/lib/python3.7/dist-packages (2.1.3)\n",
            "Requirement already satisfied: python-bidi in /usr/local/lib/python3.7/dist-packages (0.4.2)\n",
            "Requirement already satisfied: pillow in /usr/local/lib/python3.7/dist-packages (8.3.2)\n",
            "Requirement already satisfied: setuptools in /usr/local/lib/python3.7/dist-packages (from arabic-reshaper) (57.4.0)\n",
            "Requirement already satisfied: future in /usr/local/lib/python3.7/dist-packages (from arabic-reshaper) (0.16.0)\n",
            "Requirement already satisfied: six in /usr/local/lib/python3.7/dist-packages (from python-bidi) (1.15.0)\n"
          ]
        },
        {
          "output_type": "error",
          "ename": "OSError",
          "evalue": "ignored",
          "traceback": [
            "\u001b[0;31m---------------------------------------------------------------------------\u001b[0m",
            "\u001b[0;31mOSError\u001b[0m                                   Traceback (most recent call last)",
            "\u001b[0;32m<ipython-input-1-818251823334>\u001b[0m in \u001b[0;36m<module>\u001b[0;34m()\u001b[0m\n\u001b[1;32m     21\u001b[0m \u001b[0;31m#تمام نموذجي#\u001b[0m\u001b[0;34m\u001b[0m\u001b[0;34m\u001b[0m\u001b[0;34m\u001b[0m\u001b[0m\n\u001b[1;32m     22\u001b[0m \u001b[0;31m#ارتفاع خط الـ 13 هو 30\u001b[0m\u001b[0;34m\u001b[0m\u001b[0;34m\u001b[0m\u001b[0;34m\u001b[0m\u001b[0m\n\u001b[0;32m---> 23\u001b[0;31m \u001b[0mfont\u001b[0m \u001b[0;34m=\u001b[0m \u001b[0mImageFont\u001b[0m\u001b[0;34m.\u001b[0m\u001b[0mtruetype\u001b[0m\u001b[0;34m(\u001b[0m\u001b[0;34m'/content/drive/MyDrive/Fonts/Simplified_Arabic.ttf'\u001b[0m\u001b[0;34m,\u001b[0m\u001b[0;36m19\u001b[0m\u001b[0;34m)\u001b[0m\u001b[0;34m\u001b[0m\u001b[0;34m\u001b[0m\u001b[0m\n\u001b[0m\u001b[1;32m     24\u001b[0m \u001b[0;34m\u001b[0m\u001b[0m\n\u001b[1;32m     25\u001b[0m \u001b[0;31m#تمام\u001b[0m\u001b[0;34m\u001b[0m\u001b[0;34m\u001b[0m\u001b[0;34m\u001b[0m\u001b[0m\n",
            "\u001b[0;32m/usr/local/lib/python3.7/dist-packages/PIL/ImageFont.py\u001b[0m in \u001b[0;36mtruetype\u001b[0;34m(font, size, index, encoding, layout_engine)\u001b[0m\n\u001b[1;32m    853\u001b[0m \u001b[0;34m\u001b[0m\u001b[0m\n\u001b[1;32m    854\u001b[0m     \u001b[0;32mtry\u001b[0m\u001b[0;34m:\u001b[0m\u001b[0;34m\u001b[0m\u001b[0;34m\u001b[0m\u001b[0m\n\u001b[0;32m--> 855\u001b[0;31m         \u001b[0;32mreturn\u001b[0m \u001b[0mfreetype\u001b[0m\u001b[0;34m(\u001b[0m\u001b[0mfont\u001b[0m\u001b[0;34m)\u001b[0m\u001b[0;34m\u001b[0m\u001b[0;34m\u001b[0m\u001b[0m\n\u001b[0m\u001b[1;32m    856\u001b[0m     \u001b[0;32mexcept\u001b[0m \u001b[0mOSError\u001b[0m\u001b[0;34m:\u001b[0m\u001b[0;34m\u001b[0m\u001b[0;34m\u001b[0m\u001b[0m\n\u001b[1;32m    857\u001b[0m         \u001b[0;32mif\u001b[0m \u001b[0;32mnot\u001b[0m \u001b[0misPath\u001b[0m\u001b[0;34m(\u001b[0m\u001b[0mfont\u001b[0m\u001b[0;34m)\u001b[0m\u001b[0;34m:\u001b[0m\u001b[0;34m\u001b[0m\u001b[0;34m\u001b[0m\u001b[0m\n",
            "\u001b[0;32m/usr/local/lib/python3.7/dist-packages/PIL/ImageFont.py\u001b[0m in \u001b[0;36mfreetype\u001b[0;34m(font)\u001b[0m\n\u001b[1;32m    850\u001b[0m \u001b[0;34m\u001b[0m\u001b[0m\n\u001b[1;32m    851\u001b[0m     \u001b[0;32mdef\u001b[0m \u001b[0mfreetype\u001b[0m\u001b[0;34m(\u001b[0m\u001b[0mfont\u001b[0m\u001b[0;34m)\u001b[0m\u001b[0;34m:\u001b[0m\u001b[0;34m\u001b[0m\u001b[0;34m\u001b[0m\u001b[0m\n\u001b[0;32m--> 852\u001b[0;31m         \u001b[0;32mreturn\u001b[0m \u001b[0mFreeTypeFont\u001b[0m\u001b[0;34m(\u001b[0m\u001b[0mfont\u001b[0m\u001b[0;34m,\u001b[0m \u001b[0msize\u001b[0m\u001b[0;34m,\u001b[0m \u001b[0mindex\u001b[0m\u001b[0;34m,\u001b[0m \u001b[0mencoding\u001b[0m\u001b[0;34m,\u001b[0m \u001b[0mlayout_engine\u001b[0m\u001b[0;34m)\u001b[0m\u001b[0;34m\u001b[0m\u001b[0;34m\u001b[0m\u001b[0m\n\u001b[0m\u001b[1;32m    853\u001b[0m \u001b[0;34m\u001b[0m\u001b[0m\n\u001b[1;32m    854\u001b[0m     \u001b[0;32mtry\u001b[0m\u001b[0;34m:\u001b[0m\u001b[0;34m\u001b[0m\u001b[0;34m\u001b[0m\u001b[0m\n",
            "\u001b[0;32m/usr/local/lib/python3.7/dist-packages/PIL/ImageFont.py\u001b[0m in \u001b[0;36m__init__\u001b[0;34m(self, font, size, index, encoding, layout_engine)\u001b[0m\n\u001b[1;32m    210\u001b[0m                     \u001b[0;32mreturn\u001b[0m\u001b[0;34m\u001b[0m\u001b[0;34m\u001b[0m\u001b[0m\n\u001b[1;32m    211\u001b[0m             self.font = core.getfont(\n\u001b[0;32m--> 212\u001b[0;31m                 \u001b[0mfont\u001b[0m\u001b[0;34m,\u001b[0m \u001b[0msize\u001b[0m\u001b[0;34m,\u001b[0m \u001b[0mindex\u001b[0m\u001b[0;34m,\u001b[0m \u001b[0mencoding\u001b[0m\u001b[0;34m,\u001b[0m \u001b[0mlayout_engine\u001b[0m\u001b[0;34m=\u001b[0m\u001b[0mlayout_engine\u001b[0m\u001b[0;34m\u001b[0m\u001b[0;34m\u001b[0m\u001b[0m\n\u001b[0m\u001b[1;32m    213\u001b[0m             )\n\u001b[1;32m    214\u001b[0m         \u001b[0;32melse\u001b[0m\u001b[0;34m:\u001b[0m\u001b[0;34m\u001b[0m\u001b[0;34m\u001b[0m\u001b[0m\n",
            "\u001b[0;31mOSError\u001b[0m: cannot open resource"
          ]
        }
      ]
    }
  ]
}